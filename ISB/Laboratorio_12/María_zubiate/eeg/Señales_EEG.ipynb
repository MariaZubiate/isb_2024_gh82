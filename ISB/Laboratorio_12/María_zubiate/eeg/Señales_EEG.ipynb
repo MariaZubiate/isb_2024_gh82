{
  "nbformat": 4,
  "nbformat_minor": 0,
  "metadata": {
    "colab": {
      "provenance": []
    },
    "kernelspec": {
      "name": "python3",
      "display_name": "Python 3"
    },
    "language_info": {
      "name": "python"
    }
  },
  "cells": [
    {
      "cell_type": "markdown",
      "source": [
        "# REPOSO\n",
        "\n"
      ],
      "metadata": {
        "id": "iY5oXrm-61NH"
      }
    },
    {
      "cell_type": "code",
      "source": [
        "import pandas as pd\n",
        "import numpy as np\n",
        "import os\n",
        "import requests\n",
        "\n",
        "# Cargar los datos desde el archivo de texto\n",
        "data_cruda = np.loadtxt('/content/reposo.txt')\n",
        "\n",
        "# Extraer la última columna y convertirla a milivoltios\n",
        "data_cruda = data_cruda[:, -1]\n",
        "signal = ((data_cruda - 507) / 1023) * 3.3 * 1000\n",
        "\n",
        "# Definir la frecuencia de muestreo\n",
        "fs = 1000  # Frecuencia de muestreo en Hz\n",
        "\n",
        "signal_data = list(signal[:5 * fs])\n",
        "\n",
        "# Generar los datos de tiempo correspondientes\n",
        "time_data = np.linspace(0, len(signal_data) / fs, len(signal_data))\n",
        "\n",
        "# Convertir el tiempo a milisegundos\n",
        "time_data_ms = time_data *1000\n",
        "\n",
        "# Crear un DataFrame con los datos de tiempo y señal\n",
        "df = pd.DataFrame({'timestamp': time_data_ms, 'signal': signal_data})\n",
        "\n",
        "# Guardar todo el DataFrame en un solo archivo CSV\n",
        "output_file = 'eeg_reposo_completo.csv'\n",
        "df.to_csv(output_file, index=False)\n",
        "print(f'Archivo CSV guardado como {output_file}')\n",
        "\n",
        "# Lista para almacenar el nombre del archivo generado\n",
        "files = [output_file]\n",
        "\n",
        "# Imprimir la lista de archivos generados\n",
        "print('Archivo generado:', files)\n"
      ],
      "metadata": {
        "colab": {
          "base_uri": "https://localhost:8080/"
        },
        "id": "uPB7U1rR4wA9",
        "outputId": "d9df0f65-1a14-4a31-c7f3-00d385631491"
      },
      "execution_count": null,
      "outputs": [
        {
          "output_type": "stream",
          "name": "stdout",
          "text": [
            "Archivo CSV guardado como eeg_reposo_completo.csv\n",
            "Archivo generado: ['eeg_reposo_completo.csv']\n"
          ]
        }
      ]
    },
    {
      "cell_type": "code",
      "source": [
        "import requests\n",
        "import os\n",
        "import pandas as pd\n",
        "\n",
        "api_key = 'ei_a80ee84965a000830e77303c62852f6c39e862195dafe432463367759f249379'\n",
        "label = 'Eeg_reposo'\n",
        "data = pd.read_csv('eeg_reposo_completo.csv') #Colocar la data completa del csv\n",
        "\n",
        "# Separar en ventanas de 10 segundos\n",
        "intervalo_segundos = 1000\n",
        "data['EEG_reposo'] = (data['timestamp'] // intervalo_segundos).astype(int)\n",
        "num_intervalos = data['EEG_reposo'].max() + 1\n",
        "\n",
        "for i in range(num_intervalos):\n",
        "    intervalo_data = data[data['EEG_reposo'] == i]\n",
        "    intervalo_filename = f'EEG_reposo_{i}.csv'\n",
        "    intervalo_data.to_csv(intervalo_filename, index=False)\n",
        "\n",
        "    with open(intervalo_filename, 'rb') as file_data:\n",
        "        file_tuple = ('data', (os.path.basename(intervalo_filename), file_data, 'application/csv'))\n",
        "        res = requests.post(\n",
        "            url='https://ingestion.edgeimpulse.com/api/training/files',\n",
        "            headers={'x-label': label, 'x-api-key': api_key},\n",
        "            files=[file_tuple]\n",
        "        )\n",
        "        print(f'EEG_reposo {i}: {res.text}')\n",
        "\n",
        "    os.remove(intervalo_filename)\n",
        "\n",
        "if (res.status_code == 200):\n",
        "    print('Uploaded file(s) to Edge Impulse\\n', res.status_code, res.content)\n",
        "else:\n",
        "    print('Failed to upload file(s) to Edge Impulse\\n',\n",
        "          res.status_code, res.content)"
      ],
      "metadata": {
        "colab": {
          "base_uri": "https://localhost:8080/"
        },
        "id": "fnZRlX5h7qY2",
        "outputId": "9e2a1850-0704-49a8-c3c9-f269471dfb81"
      },
      "execution_count": null,
      "outputs": [
        {
          "output_type": "stream",
          "name": "stdout",
          "text": [
            "EEG_reposo 0: {\"success\":true,\"files\":[{\"success\":true,\"projectId\":431484,\"sampleId\":1059389952,\"fileName\":\"EEG_reposo_0.csv.50ra21t1.json\"}]}\n",
            "EEG_reposo 1: {\"success\":true,\"files\":[{\"success\":true,\"projectId\":431484,\"sampleId\":1059389953,\"fileName\":\"EEG_reposo_1.csv.50ra2351.json\"}]}\n",
            "EEG_reposo 2: {\"success\":true,\"files\":[{\"success\":true,\"projectId\":431484,\"sampleId\":1059389954,\"fileName\":\"EEG_reposo_2.csv.50ra24dr.json\"}]}\n",
            "EEG_reposo 3: {\"success\":true,\"files\":[{\"success\":true,\"projectId\":431484,\"sampleId\":1059389955,\"fileName\":\"EEG_reposo_3.csv.50ra25lj.json\"}]}\n",
            "EEG_reposo 4: {\"success\":true,\"files\":[{\"success\":true,\"projectId\":431484,\"sampleId\":1059389956,\"fileName\":\"EEG_reposo_4.csv.50ra26td.json\"}]}\n",
            "EEG_reposo 5: {\"success\":true,\"files\":[{\"success\":true,\"projectId\":431484,\"sampleId\":1059389957,\"fileName\":\"EEG_reposo_5.csv.50ra27tv.json\"}]}\n",
            "Uploaded file(s) to Edge Impulse\n",
            " 200 b'{\"success\":true,\"files\":[{\"success\":true,\"projectId\":431484,\"sampleId\":1059389957,\"fileName\":\"EEG_reposo_5.csv.50ra27tv.json\"}]}'\n"
          ]
        }
      ]
    },
    {
      "cell_type": "markdown",
      "source": [
        "#PREGUNTAS MATEMATICAS"
      ],
      "metadata": {
        "id": "gh8ikbxD64YZ"
      }
    },
    {
      "cell_type": "code",
      "source": [
        "import pandas as pd\n",
        "import numpy as np\n",
        "import os\n",
        "import requests\n",
        "\n",
        "# Cargar los datos desde el archivo de texto\n",
        "data_cruda = np.loadtxt('/content/preguntas_matematicas.txt')\n",
        "\n",
        "# Extraer la última columna y convertirla a milivoltios\n",
        "data_cruda = data_cruda[:, -1]\n",
        "signal = ((data_cruda - 507) / 1023) * 3.3 * 1000\n",
        "\n",
        "# Definir la frecuencia de muestreo\n",
        "fs = 1000  # Frecuencia de muestreo en Hz\n",
        "\n",
        "signal_data = list(signal[:5 * fs])\n",
        "\n",
        "# Generar los datos de tiempo correspondientes\n",
        "time_data = np.linspace(0, len(signal_data) / fs, len(signal_data))\n",
        "\n",
        "# Convertir el tiempo a milisegundos\n",
        "time_data_ms = time_data *1000\n",
        "\n",
        "# Crear un DataFrame con los datos de tiempo y señal\n",
        "df = pd.DataFrame({'timestamp': time_data_ms, 'signal': signal_data})\n",
        "\n",
        "# Guardar todo el DataFrame en un solo archivo CSV\n",
        "output_file = 'eeg_preguntas_matematicas_completo.csv'\n",
        "df.to_csv(output_file, index=False)\n",
        "print(f'Archivo CSV guardado como {output_file}')\n",
        "\n",
        "# Lista para almacenar el nombre del archivo generado\n",
        "files = [output_file]\n",
        "\n",
        "# Imprimir la lista de archivos generados\n",
        "print('Archivo generado:', files)\n"
      ],
      "metadata": {
        "colab": {
          "base_uri": "https://localhost:8080/"
        },
        "id": "Bif04nkd67nx",
        "outputId": "c6bcfb96-5cd3-4f0b-ee8f-d2e60f980660"
      },
      "execution_count": null,
      "outputs": [
        {
          "output_type": "stream",
          "name": "stdout",
          "text": [
            "Archivo CSV guardado como eeg_preguntas_matematicas_completo.csv\n",
            "Archivo generado: ['eeg_preguntas_matematicas_completo.csv']\n"
          ]
        }
      ]
    },
    {
      "cell_type": "code",
      "source": [
        "import requests\n",
        "import os\n",
        "import pandas as pd\n",
        "\n",
        "api_key = 'ei_a80ee84965a000830e77303c62852f6c39e862195dafe432463367759f249379'\n",
        "label = 'Eeg_preguntas_matematicas'\n",
        "data = pd.read_csv('eeg_preguntas_matematicas_completo.csv') #Colocar la data completa del csv\n",
        "\n",
        "# Separar en ventanas de 7 segundos\n",
        "intervalo_segundos = 700\n",
        "data['EEG_preguntas_matematicas'] = (data['timestamp'] // intervalo_segundos).astype(int)\n",
        "num_intervalos = data['EEG_preguntas_matematicas'].max() + 1\n",
        "\n",
        "for i in range(num_intervalos):\n",
        "    intervalo_data = data[data['EEG_preguntas_matematicas'] == i]\n",
        "    intervalo_filename = f'EEG_preguntas_matematicas_{i}.csv'\n",
        "    intervalo_data.to_csv(intervalo_filename, index=False)\n",
        "\n",
        "    with open(intervalo_filename, 'rb') as file_data:\n",
        "        file_tuple = ('data', (os.path.basename(intervalo_filename), file_data, 'application/csv'))\n",
        "        res = requests.post(\n",
        "            url='https://ingestion.edgeimpulse.com/api/training/files',\n",
        "            headers={'x-label': label, 'x-api-key': api_key},\n",
        "            files=[file_tuple]\n",
        "        )\n",
        "        print(f'EEG_preguntas_matematicas {i}: {res.text}')\n",
        "\n",
        "    os.remove(intervalo_filename)\n",
        "\n",
        "if (res.status_code == 200):\n",
        "    print('Uploaded file(s) to Edge Impulse\\n', res.status_code, res.content)\n",
        "else:\n",
        "    print('Failed to upload file(s) to Edge Impulse\\n',\n",
        "          res.status_code, res.content)"
      ],
      "metadata": {
        "colab": {
          "base_uri": "https://localhost:8080/"
        },
        "id": "bkOD0xV_7KzU",
        "outputId": "53e6c177-91a5-4a12-938b-3eb6a8103002"
      },
      "execution_count": null,
      "outputs": [
        {
          "output_type": "stream",
          "name": "stdout",
          "text": [
            "EEG_preguntas_matematicas 0: {\"success\":true,\"files\":[{\"success\":true,\"projectId\":431484,\"sampleId\":1059390312,\"fileName\":\"EEG_preguntas_matematicas_0.csv.50ra8v3a.json\"}]}\n",
            "EEG_preguntas_matematicas 1: {\"success\":true,\"files\":[{\"success\":true,\"projectId\":431484,\"sampleId\":1059390313,\"fileName\":\"EEG_preguntas_matematicas_1.csv.50ra908k.json\"}]}\n",
            "EEG_preguntas_matematicas 2: {\"success\":true,\"files\":[{\"success\":true,\"projectId\":431484,\"sampleId\":1059390314,\"fileName\":\"EEG_preguntas_matematicas_2.csv.50ra91g7.json\"}]}\n",
            "EEG_preguntas_matematicas 3: {\"success\":true,\"files\":[{\"success\":true,\"projectId\":431484,\"sampleId\":1059390315,\"fileName\":\"EEG_preguntas_matematicas_3.csv.50ra92nf.json\"}]}\n",
            "EEG_preguntas_matematicas 4: {\"success\":true,\"files\":[{\"success\":true,\"projectId\":431484,\"sampleId\":1059390316,\"fileName\":\"EEG_preguntas_matematicas_4.csv.50ra93tt.json\"}]}\n",
            "EEG_preguntas_matematicas 5: {\"success\":true,\"files\":[{\"success\":true,\"projectId\":431484,\"sampleId\":1059390317,\"fileName\":\"EEG_preguntas_matematicas_5.csv.50ra953q.json\"}]}\n",
            "EEG_preguntas_matematicas 6: {\"success\":true,\"files\":[{\"success\":true,\"projectId\":431484,\"sampleId\":1059390318,\"fileName\":\"EEG_preguntas_matematicas_6.csv.50ra96c7.json\"}]}\n",
            "EEG_preguntas_matematicas 7: {\"success\":true,\"files\":[{\"success\":true,\"projectId\":431484,\"sampleId\":1059390319,\"fileName\":\"EEG_preguntas_matematicas_7.csv.50ra97cn.json\"}]}\n",
            "Uploaded file(s) to Edge Impulse\n",
            " 200 b'{\"success\":true,\"files\":[{\"success\":true,\"projectId\":431484,\"sampleId\":1059390319,\"fileName\":\"EEG_preguntas_matematicas_7.csv.50ra97cn.json\"}]}'\n"
          ]
        }
      ]
    }
  ]
}