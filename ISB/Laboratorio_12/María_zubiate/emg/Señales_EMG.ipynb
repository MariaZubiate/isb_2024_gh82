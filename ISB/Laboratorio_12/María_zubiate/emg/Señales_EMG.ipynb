{
  "nbformat": 4,
  "nbformat_minor": 0,
  "metadata": {
    "colab": {
      "provenance": []
    },
    "kernelspec": {
      "name": "python3",
      "display_name": "Python 3"
    },
    "language_info": {
      "name": "python"
    }
  },
  "cells": [
    {
      "cell_type": "markdown",
      "source": [
        "# REPOSO\n",
        "\n"
      ],
      "metadata": {
        "id": "iY5oXrm-61NH"
      }
    },
    {
      "cell_type": "code",
      "source": [
        "import pandas as pd\n",
        "import numpy as np\n",
        "import os\n",
        "import requests\n",
        "\n",
        "# Cargar los datos desde el archivo de texto\n",
        "data_cruda = np.loadtxt('/content/pulgar_reposo.txt')\n",
        "\n",
        "# Extraer la última columna y convertirla a milivoltios\n",
        "data_cruda = data_cruda[:, -1]\n",
        "signal = ((data_cruda - 507) / 1023) * 3.3 * 1000\n",
        "\n",
        "# Definir la frecuencia de muestreo\n",
        "fs = 1000  # Frecuencia de muestreo en Hz\n",
        "\n",
        "signal_data = list(signal[:5 * fs])\n",
        "\n",
        "# Generar los datos de tiempo correspondientes\n",
        "time_data = np.linspace(0, len(signal_data) / fs, len(signal_data))\n",
        "\n",
        "# Convertir el tiempo a milisegundos\n",
        "time_data_ms = time_data *1000\n",
        "\n",
        "# Crear un DataFrame con los datos de tiempo y señal\n",
        "df = pd.DataFrame({'timestamp': time_data_ms, 'signal': signal_data})\n",
        "\n",
        "# Guardar todo el DataFrame en un solo archivo CSV\n",
        "output_file = 'emg_reposo_completo.csv'\n",
        "df.to_csv(output_file, index=False)\n",
        "print(f'Archivo CSV guardado como {output_file}')\n",
        "\n",
        "# Lista para almacenar el nombre del archivo generado\n",
        "files = [output_file]\n",
        "\n",
        "# Imprimir la lista de archivos generados\n",
        "print('Archivo generado:', files)\n"
      ],
      "metadata": {
        "colab": {
          "base_uri": "https://localhost:8080/"
        },
        "id": "uPB7U1rR4wA9",
        "outputId": "fdcf111a-e39d-41b1-d0ff-1a3a58d3fd22"
      },
      "execution_count": null,
      "outputs": [
        {
          "output_type": "stream",
          "name": "stdout",
          "text": [
            "Archivo CSV guardado como emg_reposo_completo.csv\n",
            "Archivo generado: ['emg_reposo_completo.csv']\n"
          ]
        }
      ]
    },
    {
      "cell_type": "code",
      "source": [
        "import requests\n",
        "import os\n",
        "import pandas as pd\n",
        "\n",
        "api_key = 'ei_4a534c9ce6929fcad4f38c1c8b2ee6c5023dec4079fb5c0303e37dbde209ef3f'\n",
        "label = 'Emg_reposo'\n",
        "data = pd.read_csv('emg_reposo_completo.csv') #Colocar la data completa del csv\n",
        "\n",
        "# Separar en ventanas de 2 segundos\n",
        "intervalo_segundos = 200\n",
        "data['EMG_reposo'] = (data['timestamp'] // intervalo_segundos).astype(int)\n",
        "num_intervalos = data['EMG_reposo'].max() + 1\n",
        "\n",
        "for i in range(num_intervalos):\n",
        "    intervalo_data = data[data['EMG_reposo'] == i]\n",
        "    intervalo_filename = f'EMG_reposo_{i}.csv'\n",
        "    intervalo_data.to_csv(intervalo_filename, index=False)\n",
        "\n",
        "    with open(intervalo_filename, 'rb') as file_data:\n",
        "        file_tuple = ('data', (os.path.basename(intervalo_filename), file_data, 'application/csv'))\n",
        "        res = requests.post(\n",
        "            url='https://ingestion.edgeimpulse.com/api/training/files',\n",
        "            headers={'x-label': label, 'x-api-key': api_key},\n",
        "            files=[file_tuple]\n",
        "        )\n",
        "        print(f'EMG_reposo {i}: {res.text}')\n",
        "\n",
        "    os.remove(intervalo_filename)\n",
        "\n",
        "if (res.status_code == 200):\n",
        "    print('Uploaded file(s) to Edge Impulse\\n', res.status_code, res.content)\n",
        "else:\n",
        "    print('Failed to upload file(s) to Edge Impulse\\n',\n",
        "          res.status_code, res.content)"
      ],
      "metadata": {
        "colab": {
          "base_uri": "https://localhost:8080/"
        },
        "id": "fnZRlX5h7qY2",
        "outputId": "edb8c341-936e-47d3-8a28-a7a180a65228"
      },
      "execution_count": null,
      "outputs": [
        {
          "output_type": "stream",
          "name": "stdout",
          "text": [
            "EMG_reposo 0: {\"success\":true,\"files\":[{\"success\":true,\"projectId\":431195,\"sampleId\":1059389707,\"fileName\":\"EMG_reposo_0.csv.50r9l4i7.json\"}]}\n",
            "EMG_reposo 1: {\"success\":true,\"files\":[{\"success\":true,\"projectId\":431195,\"sampleId\":1059389708,\"fileName\":\"EMG_reposo_1.csv.50r9l542.json\"}]}\n",
            "EMG_reposo 2: {\"success\":true,\"files\":[{\"success\":true,\"projectId\":431195,\"sampleId\":1059389709,\"fileName\":\"EMG_reposo_2.csv.50r9l5l0.json\"}]}\n",
            "EMG_reposo 3: {\"success\":true,\"files\":[{\"success\":true,\"projectId\":431195,\"sampleId\":1059389710,\"fileName\":\"EMG_reposo_3.csv.50r9l65g.json\"}]}\n",
            "EMG_reposo 4: {\"success\":true,\"files\":[{\"success\":true,\"projectId\":431195,\"sampleId\":1059389711,\"fileName\":\"EMG_reposo_4.csv.50r9l6mg.json\"}]}\n",
            "EMG_reposo 5: {\"success\":true,\"files\":[{\"success\":true,\"projectId\":431195,\"sampleId\":1059389712,\"fileName\":\"EMG_reposo_5.csv.50r9l76f.json\"}]}\n",
            "EMG_reposo 6: {\"success\":true,\"files\":[{\"success\":true,\"projectId\":431195,\"sampleId\":1059389713,\"fileName\":\"EMG_reposo_6.csv.50r9l7n5.json\"}]}\n",
            "EMG_reposo 7: {\"success\":true,\"files\":[{\"success\":true,\"projectId\":431195,\"sampleId\":1059389714,\"fileName\":\"EMG_reposo_7.csv.50r9l86u.json\"}]}\n",
            "EMG_reposo 8: {\"success\":true,\"files\":[{\"success\":true,\"projectId\":431195,\"sampleId\":1059389715,\"fileName\":\"EMG_reposo_8.csv.50r9l8m9.json\"}]}\n",
            "EMG_reposo 9: {\"success\":true,\"files\":[{\"success\":true,\"projectId\":431195,\"sampleId\":1059389716,\"fileName\":\"EMG_reposo_9.csv.50r9l96f.json\"}]}\n",
            "EMG_reposo 10: {\"success\":true,\"files\":[{\"success\":true,\"projectId\":431195,\"sampleId\":1059389717,\"fileName\":\"EMG_reposo_10.csv.50r9l9m2.json\"}]}\n",
            "EMG_reposo 11: {\"success\":true,\"files\":[{\"success\":true,\"projectId\":431195,\"sampleId\":1059389718,\"fileName\":\"EMG_reposo_11.csv.50r9la8a.json\"}]}\n",
            "EMG_reposo 12: {\"success\":true,\"files\":[{\"success\":true,\"projectId\":431195,\"sampleId\":1059389719,\"fileName\":\"EMG_reposo_12.csv.50r9lapm.json\"}]}\n",
            "EMG_reposo 13: {\"success\":true,\"files\":[{\"success\":true,\"projectId\":431195,\"sampleId\":1059389720,\"fileName\":\"EMG_reposo_13.csv.50r9lb9j.json\"}]}\n",
            "EMG_reposo 14: {\"success\":true,\"files\":[{\"success\":true,\"projectId\":431195,\"sampleId\":1059389722,\"fileName\":\"EMG_reposo_14.csv.50r9lbt4.json\"}]}\n",
            "EMG_reposo 15: {\"success\":true,\"files\":[{\"success\":true,\"projectId\":431195,\"sampleId\":1059389723,\"fileName\":\"EMG_reposo_15.csv.50r9lccp.json\"}]}\n",
            "EMG_reposo 16: {\"success\":true,\"files\":[{\"success\":true,\"projectId\":431195,\"sampleId\":1059389724,\"fileName\":\"EMG_reposo_16.csv.50r9lcu0.json\"}]}\n",
            "EMG_reposo 17: {\"success\":true,\"files\":[{\"success\":true,\"projectId\":431195,\"sampleId\":1059389725,\"fileName\":\"EMG_reposo_17.csv.50r9ldf5.json\"}]}\n",
            "EMG_reposo 18: {\"success\":true,\"files\":[{\"success\":true,\"projectId\":431195,\"sampleId\":1059389726,\"fileName\":\"EMG_reposo_18.csv.50r9le1a.json\"}]}\n",
            "EMG_reposo 19: {\"success\":true,\"files\":[{\"success\":true,\"projectId\":431195,\"sampleId\":1059389727,\"fileName\":\"EMG_reposo_19.csv.50r9leja.json\"}]}\n",
            "EMG_reposo 20: {\"success\":true,\"files\":[{\"success\":true,\"projectId\":431195,\"sampleId\":1059389728,\"fileName\":\"EMG_reposo_20.csv.50r9lf5t.json\"}]}\n",
            "EMG_reposo 21: {\"success\":true,\"files\":[{\"success\":true,\"projectId\":431195,\"sampleId\":1059389729,\"fileName\":\"EMG_reposo_21.csv.50r9lfnk.json\"}]}\n",
            "EMG_reposo 22: {\"success\":true,\"files\":[{\"success\":true,\"projectId\":431195,\"sampleId\":1059389730,\"fileName\":\"EMG_reposo_22.csv.50r9lg7h.json\"}]}\n",
            "EMG_reposo 23: {\"success\":true,\"files\":[{\"success\":true,\"projectId\":431195,\"sampleId\":1059389731,\"fileName\":\"EMG_reposo_23.csv.50r9lgo0.json\"}]}\n",
            "EMG_reposo 24: {\"success\":true,\"files\":[{\"success\":true,\"projectId\":431195,\"sampleId\":1059389732,\"fileName\":\"EMG_reposo_24.csv.50r9lh7l.json\"}]}\n",
            "EMG_reposo 25: {\"success\":true,\"files\":[{\"success\":true,\"projectId\":431195,\"sampleId\":1059389733,\"fileName\":\"EMG_reposo_25.csv.50r9lho4.json\"}]}\n",
            "Uploaded file(s) to Edge Impulse\n",
            " 200 b'{\"success\":true,\"files\":[{\"success\":true,\"projectId\":431195,\"sampleId\":1059389733,\"fileName\":\"EMG_reposo_25.csv.50r9lho4.json\"}]}'\n"
          ]
        }
      ]
    },
    {
      "cell_type": "markdown",
      "source": [
        "#CONTRAFUERZA"
      ],
      "metadata": {
        "id": "gh8ikbxD64YZ"
      }
    },
    {
      "cell_type": "code",
      "source": [
        "import pandas as pd\n",
        "import numpy as np\n",
        "import os\n",
        "import requests\n",
        "\n",
        "# Cargar los datos desde el archivo de texto\n",
        "data_cruda = np.loadtxt('/content/pulgar_contrafuerza.txt')\n",
        "\n",
        "# Extraer la última columna y convertirla a milivoltios\n",
        "data_cruda = data_cruda[:, -1]\n",
        "signal = ((data_cruda - 507) / 1023) * 3.3 * 1000\n",
        "\n",
        "# Definir la frecuencia de muestreo\n",
        "fs = 1000  # Frecuencia de muestreo en Hz\n",
        "\n",
        "# Seleccionar los primeros 5 m de datos\n",
        "signal_data = list(signal[:5 * fs])\n",
        "\n",
        "# Generar los datos de tiempo correspondientes\n",
        "time_data = np.linspace(0, len(signal_data) / fs, len(signal_data))\n",
        "\n",
        "# Convertir el tiempo a milisegundos\n",
        "time_data_ms = time_data *1000\n",
        "\n",
        "# Crear un DataFrame con los datos de tiempo y señal\n",
        "df = pd.DataFrame({'timestamp': time_data_ms, 'signal': signal_data})\n",
        "\n",
        "# Guardar todo el DataFrame en un solo archivo CSV\n",
        "output_file = 'emg_pulgar_contrafuerza_completo.csv'\n",
        "df.to_csv(output_file, index=False)\n",
        "print(f'Archivo CSV guardado como {output_file}')\n",
        "\n",
        "# Lista para almacenar el nombre del archivo generado\n",
        "files = [output_file]\n",
        "\n",
        "# Imprimir la lista de archivos generados\n",
        "print('Archivo generado:', files)\n"
      ],
      "metadata": {
        "colab": {
          "base_uri": "https://localhost:8080/"
        },
        "id": "Bif04nkd67nx",
        "outputId": "8bd45d60-1127-4b7f-911a-63234a6af07a"
      },
      "execution_count": null,
      "outputs": [
        {
          "output_type": "stream",
          "name": "stdout",
          "text": [
            "Archivo CSV guardado como emg_pulgar_contrafuerza_completo.csv\n",
            "Archivo generado: ['emg_pulgar_contrafuerza_completo.csv']\n"
          ]
        }
      ]
    },
    {
      "cell_type": "code",
      "source": [
        "import requests\n",
        "import os\n",
        "import pandas as pd\n",
        "\n",
        "api_key = 'ei_4a534c9ce6929fcad4f38c1c8b2ee6c5023dec4079fb5c0303e37dbde209ef3f'\n",
        "label = 'Emg_pulgar_contrafuerza'\n",
        "data = pd.read_csv('emg_pulgar_contrafuerza_completo.csv') #Colocar la data completa del csv\n",
        "\n",
        "# Separar en ventanas de 2 segundos\n",
        "intervalo_segundos = 200\n",
        "data['EMG_pulgar_contrafuerza'] = (data['timestamp'] // intervalo_segundos).astype(int)\n",
        "num_intervalos = data['EMG_pulgar_contrafuerza'].max() + 1\n",
        "\n",
        "for i in range(num_intervalos):\n",
        "    intervalo_data = data[data['EMG_pulgar_contrafuerza'] == i]\n",
        "    intervalo_filename = f'EMG_pulgar_contrafuerza_{i}.csv'\n",
        "    intervalo_data.to_csv(intervalo_filename, index=False)\n",
        "\n",
        "    with open(intervalo_filename, 'rb') as file_data:\n",
        "        file_tuple = ('data', (os.path.basename(intervalo_filename), file_data, 'application/csv'))\n",
        "        res = requests.post(\n",
        "            url='https://ingestion.edgeimpulse.com/api/training/files',\n",
        "            headers={'x-label': label, 'x-api-key': api_key},\n",
        "            files=[file_tuple]\n",
        "        )\n",
        "        print(f'EMG_pulgar_contrafuerza {i}: {res.text}')\n",
        "\n",
        "    os.remove(intervalo_filename)\n",
        "\n",
        "if (res.status_code == 200):\n",
        "    print('Uploaded file(s) to Edge Impulse\\n', res.status_code, res.content)\n",
        "else:\n",
        "    print('Failed to upload file(s) to Edge Impulse\\n',\n",
        "          res.status_code, res.content)"
      ],
      "metadata": {
        "colab": {
          "base_uri": "https://localhost:8080/"
        },
        "id": "bkOD0xV_7KzU",
        "outputId": "d9c1f236-7a6b-43d7-cecd-7155b9094e07"
      },
      "execution_count": null,
      "outputs": [
        {
          "output_type": "stream",
          "name": "stdout",
          "text": [
            "EMG_pulgar_contrafuerza 0: {\"success\":true,\"files\":[{\"success\":true,\"projectId\":431195,\"sampleId\":1059389739,\"fileName\":\"EMG_pulgar_contrafuerza_0.csv.50r9o1j3.json\"}]}\n",
            "EMG_pulgar_contrafuerza 1: {\"success\":true,\"files\":[{\"success\":true,\"projectId\":431195,\"sampleId\":1059389740,\"fileName\":\"EMG_pulgar_contrafuerza_1.csv.50r9o24d.json\"}]}\n",
            "EMG_pulgar_contrafuerza 2: {\"success\":true,\"files\":[{\"success\":true,\"projectId\":431195,\"sampleId\":1059389741,\"fileName\":\"EMG_pulgar_contrafuerza_2.csv.50r9o2l6.json\"}]}\n",
            "EMG_pulgar_contrafuerza 3: {\"success\":true,\"files\":[{\"success\":true,\"projectId\":431195,\"sampleId\":1059389742,\"fileName\":\"EMG_pulgar_contrafuerza_3.csv.50r9o36b.json\"}]}\n",
            "EMG_pulgar_contrafuerza 4: {\"success\":true,\"files\":[{\"success\":true,\"projectId\":431195,\"sampleId\":1059389743,\"fileName\":\"EMG_pulgar_contrafuerza_4.csv.50r9o3ln.json\"}]}\n",
            "EMG_pulgar_contrafuerza 5: {\"success\":true,\"files\":[{\"success\":true,\"projectId\":431195,\"sampleId\":1059389744,\"fileName\":\"EMG_pulgar_contrafuerza_5.csv.50r9o472.json\"}]}\n",
            "EMG_pulgar_contrafuerza 6: {\"success\":true,\"files\":[{\"success\":true,\"projectId\":431195,\"sampleId\":1059389745,\"fileName\":\"EMG_pulgar_contrafuerza_6.csv.50r9o4oj.json\"}]}\n",
            "EMG_pulgar_contrafuerza 7: {\"success\":true,\"files\":[{\"success\":true,\"projectId\":431195,\"sampleId\":1059389746,\"fileName\":\"EMG_pulgar_contrafuerza_7.csv.50r9o591.json\"}]}\n",
            "EMG_pulgar_contrafuerza 8: {\"success\":true,\"files\":[{\"success\":true,\"projectId\":431195,\"sampleId\":1059389747,\"fileName\":\"EMG_pulgar_contrafuerza_8.csv.50r9o5p7.json\"}]}\n",
            "EMG_pulgar_contrafuerza 9: {\"success\":true,\"files\":[{\"success\":true,\"projectId\":431195,\"sampleId\":1059389748,\"fileName\":\"EMG_pulgar_contrafuerza_9.csv.50r9o69p.json\"}]}\n",
            "EMG_pulgar_contrafuerza 10: {\"success\":true,\"files\":[{\"success\":true,\"projectId\":431195,\"sampleId\":1059389749,\"fileName\":\"EMG_pulgar_contrafuerza_10.csv.50r9o6qg.json\"}]}\n",
            "EMG_pulgar_contrafuerza 11: {\"success\":true,\"files\":[{\"success\":true,\"projectId\":431195,\"sampleId\":1059389750,\"fileName\":\"EMG_pulgar_contrafuerza_11.csv.50r9o7c0.json\"}]}\n",
            "EMG_pulgar_contrafuerza 12: {\"success\":true,\"files\":[{\"success\":true,\"projectId\":431195,\"sampleId\":1059389751,\"fileName\":\"EMG_pulgar_contrafuerza_12.csv.50r9o7se.json\"}]}\n",
            "EMG_pulgar_contrafuerza 13: {\"success\":true,\"files\":[{\"success\":true,\"projectId\":431195,\"sampleId\":1059389752,\"fileName\":\"EMG_pulgar_contrafuerza_13.csv.50r9o8ca.json\"}]}\n",
            "EMG_pulgar_contrafuerza 14: {\"success\":true,\"files\":[{\"success\":true,\"projectId\":431195,\"sampleId\":1059389753,\"fileName\":\"EMG_pulgar_contrafuerza_14.csv.50r9o8sm.json\"}]}\n",
            "EMG_pulgar_contrafuerza 15: {\"success\":true,\"files\":[{\"success\":true,\"projectId\":431195,\"sampleId\":1059389754,\"fileName\":\"EMG_pulgar_contrafuerza_15.csv.50r9o9f3.json\"}]}\n",
            "EMG_pulgar_contrafuerza 16: {\"success\":true,\"files\":[{\"success\":true,\"projectId\":431195,\"sampleId\":1059389755,\"fileName\":\"EMG_pulgar_contrafuerza_16.csv.50r9oa3t.json\"}]}\n",
            "EMG_pulgar_contrafuerza 17: {\"success\":true,\"files\":[{\"success\":true,\"projectId\":431195,\"sampleId\":1059389756,\"fileName\":\"EMG_pulgar_contrafuerza_17.csv.50r9oakr.json\"}]}\n",
            "EMG_pulgar_contrafuerza 18: {\"success\":true,\"files\":[{\"success\":true,\"projectId\":431195,\"sampleId\":1059389757,\"fileName\":\"EMG_pulgar_contrafuerza_18.csv.50r9ob8c.json\"}]}\n",
            "EMG_pulgar_contrafuerza 19: {\"success\":true,\"files\":[{\"success\":true,\"projectId\":431195,\"sampleId\":1059389758,\"fileName\":\"EMG_pulgar_contrafuerza_19.csv.50r9obr5.json\"}]}\n",
            "EMG_pulgar_contrafuerza 20: {\"success\":true,\"files\":[{\"success\":true,\"projectId\":431195,\"sampleId\":1059389759,\"fileName\":\"EMG_pulgar_contrafuerza_20.csv.50r9ocei.json\"}]}\n",
            "EMG_pulgar_contrafuerza 21: {\"success\":true,\"files\":[{\"success\":true,\"projectId\":431195,\"sampleId\":1059389760,\"fileName\":\"EMG_pulgar_contrafuerza_21.csv.50r9ocv9.json\"}]}\n",
            "EMG_pulgar_contrafuerza 22: {\"success\":true,\"files\":[{\"success\":true,\"projectId\":431195,\"sampleId\":1059389761,\"fileName\":\"EMG_pulgar_contrafuerza_22.csv.50r9odf4.json\"}]}\n",
            "EMG_pulgar_contrafuerza 23: {\"success\":true,\"files\":[{\"success\":true,\"projectId\":431195,\"sampleId\":1059389762,\"fileName\":\"EMG_pulgar_contrafuerza_23.csv.50r9odv6.json\"}]}\n",
            "EMG_pulgar_contrafuerza 24: {\"success\":true,\"files\":[{\"success\":true,\"projectId\":431195,\"sampleId\":1059389763,\"fileName\":\"EMG_pulgar_contrafuerza_24.csv.50r9oefd.json\"}]}\n",
            "EMG_pulgar_contrafuerza 25: {\"success\":true,\"files\":[{\"success\":true,\"projectId\":431195,\"sampleId\":1059389764,\"fileName\":\"EMG_pulgar_contrafuerza_25.csv.50r9oev6.json\"}]}\n",
            "Uploaded file(s) to Edge Impulse\n",
            " 200 b'{\"success\":true,\"files\":[{\"success\":true,\"projectId\":431195,\"sampleId\":1059389764,\"fileName\":\"EMG_pulgar_contrafuerza_25.csv.50r9oev6.json\"}]}'\n"
          ]
        }
      ]
    }
  ]
}